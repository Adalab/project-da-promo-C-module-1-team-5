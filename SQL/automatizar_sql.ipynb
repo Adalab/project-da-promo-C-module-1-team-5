{
 "cells": [
  {
   "cell_type": "markdown",
   "metadata": {},
   "source": [
    "HAY QUE PONER A TODO LO DE INSERCION DE DATOS EL COMIT"
   ]
  },
  {
   "cell_type": "code",
   "execution_count": 1,
   "metadata": {},
   "outputs": [
    {
     "ename": "SyntaxError",
     "evalue": "expected ':' (3155620275.py, line 1)",
     "output_type": "error",
     "traceback": [
      "\u001b[1;36m  Cell \u001b[1;32mIn [1], line 1\u001b[1;36m\u001b[0m\n\u001b[1;33m    def automatizar_sql (self, tabla, insertar,limpiar)\u001b[0m\n\u001b[1;37m                                                       ^\u001b[0m\n\u001b[1;31mSyntaxError\u001b[0m\u001b[1;31m:\u001b[0m expected ':'\n"
     ]
    }
   ],
   "source": [
    "def automatizar_sql (conectar,tabla, insertar,limpiar):"
   ]
  },
  {
   "cell_type": "code",
   "execution_count": null,
   "metadata": {},
   "outputs": [],
   "source": [
    "#elegir base datos para conectarse si esta erronea la original\n",
    "from mysql.connector import errorcode\n",
    "\n",
    "try:\n",
    "  cnx = mysql.connector.connect(user='root', password='AlumnaAdalab',\n",
    "                              host='127.0.0.1',\n",
    "                              database='xml')\n",
    "except mysql.connector.Error as err:\n",
    "  if err.errno == errorcode.ER_ACCESS_DENIED_ERROR:\n",
    "    print(\"Something is wrong with your user name or password\")\n",
    "  elif err.errno == errorcode.ER_BAD_DB_ERROR:\n",
    "    print(\"Database does not exist\")\n",
    "    x=input('escribe tu base de datos')\n",
    "    cnx = mysql.connector.connect(user='root', password='AlumnaAdalab',\n",
    "                              host='127.0.0.1',\n",
    "                              database=x)\n",
    "    print('te has conectado')\n",
    "                              \n",
    "\n",
    "  else:\n",
    "    print(err)\n",
    "else:\n",
    "  cnx.close()"
   ]
  },
  {
   "cell_type": "code",
   "execution_count": 4,
   "metadata": {},
   "outputs": [
    {
     "name": "stdout",
     "output_type": "stream",
     "text": [
      "MySQLCursor: CREATE TABLE IF NOT EXISTS `data_sql` (\n",
      "..\n"
     ]
    }
   ],
   "source": [
    "#crear tabla\n",
    "import mysql.connector\n",
    "\n",
    "cnx = mysql.connector.connect(user='root', password='AlumnaAdalab',\n",
    "                              host='127.0.0.1', database='project_1')\n",
    "\n",
    "\n",
    "cursor = cnx.cursor()\n",
    "try:\n",
    "    cursor.execute(\"\"\"CREATE TABLE IF NOT EXISTS `data_sql` (\n",
    "  `index_sql` int NOT NULL,\n",
    "  `q10_part_1` varchar(55) DEFAULT NULL,\n",
    "  `q10_part_2` varchar(55) DEFAULT NULL,\n",
    "  `q10_part_3` varchar(55) DEFAULT NULL,\n",
    "  `q10_part_4` varchar(55) DEFAULT NULL,\n",
    "  `q10_part_5` varchar(55) DEFAULT NULL,\n",
    "  `q10_part_6` varchar(55) DEFAULT NULL,\n",
    "  `q10_part_7` varchar(55) DEFAULT NULL,\n",
    "  `q10_part_8` varchar(55) DEFAULT NULL,\n",
    "  `q10_part_9` varchar(55) DEFAULT NULL,\n",
    "  `q10_part_10` varchar(55) DEFAULT NULL,\n",
    "  `q10_part_11` varchar(55) DEFAULT NULL,\n",
    "  `q10_part_12` varchar(55) DEFAULT NULL,\n",
    "  `q10_part_13` varchar(55) DEFAULT NULL,\n",
    "  `q10_part_14` varchar(55) DEFAULT NULL,\n",
    "  `q10_part_15` varchar(55) DEFAULT NULL,\n",
    "  `q10_part_16` varchar(55) DEFAULT NULL,\n",
    "  `q10_other` varchar(55) DEFAULT NULL,\n",
    "  `d482xta` varchar(55) DEFAULT NULL,\n",
    "  PRIMARY KEY (`index_sql`)\n",
    ") \"\"\")\n",
    "    print(cursor)\n",
    "except mysql.connector.Error as err:\n",
    "    print(err)\n",
    "    print(\"Error Code:\", err.errno)\n",
    "    print(\"SQLSTATE\", err.sqlstate)\n",
    "    print(\"Message\", err.msg)\n",
    "cnx.close()"
   ]
  },
  {
   "cell_type": "code",
   "execution_count": null,
   "metadata": {},
   "outputs": [],
   "source": [
    "#borrar determinados registros\n",
    "\n",
    "import mysql.connector\n",
    "\n",
    "cnx = mysql.connector.connect(user='root', password='AlumnaAdalab',\n",
    "                              host='127.0.0.1', database='anacosas')\n",
    "\n",
    "\n",
    "cursor = cnx.cursor()\n",
    "\n",
    "sql=('SELECT * FROM data_sql')\n",
    "#sql2=(\"UPDATE data_sql SET %s='NULL' WHERE %s='ERROR'\")\n",
    "\n",
    "print(cnx)\n",
    "cursor = cnx.cursor()\n",
    "cursor.execute(sql)\n",
    "result = cursor.fetchall()\n",
    "result2 = [str(x) for x in result] #de tupla a string\n",
    "result3='\\n'.join(result2) #de lista de string a string\n",
    "result3.replace('ERROR','NULL') #sustituir valores equívocos\n",
    "result4=result3.split('\\n') #reconvertir a listas cada registro\n",
    "result6=[]\n",
    "for i in result4:\n",
    "    result5=tuple(i)\n",
    "    result6.append(result5)#volver al estado inicial de lista de tuplas para insertar los valores\n",
    "#result es lista de tuplas, cada tupla, una columna\n",
    "cnx.close()"
   ]
  },
  {
   "cell_type": "code",
   "execution_count": null,
   "metadata": {},
   "outputs": [],
   "source": [
    "import mysql.connector\n",
    "\n",
    "cnx = mysql.connector.connect(user='root', password='AlumnaAdalab',\n",
    "                              host='127.0.0.1', database='BD_pruebas')\n",
    "\n",
    "\n",
    "mycursor = cnx.cursor()\n",
    "sql = \"INSERT INTO data_sql (name, address) VALUES (%s, %s)\"\n",
    "val = [\n",
    "  ('Ana', 'Lowstreet 4'),\n",
    "  ('Rocio', 'Apple st 652'),\n",
    "  ('Juana', 'Mountain 21'),\n",
    "  ('Pedro', 'Valley 345')\n",
    "]\n",
    "\n",
    "try: \n",
    "    mycursor.executemany(sql, val)\n",
    "    cnx.commit()\n",
    "    print(mycursor.rowcount, \"registro/s insertado/s.\")\n",
    "\n",
    "except mysql.connector.Error as err:\n",
    "    print(err)\n",
    "    print(\"Error Code:\", err.errno)\n",
    "    print(\"SQLSTATE\", err.sqlstate)\n",
    "    print(\"Message\", err.msg)"
   ]
  }
 ],
 "metadata": {
  "kernelspec": {
   "display_name": "Python 3.10.8 64-bit (microsoft store)",
   "language": "python",
   "name": "python3"
  },
  "language_info": {
   "codemirror_mode": {
    "name": "ipython",
    "version": 3
   },
   "file_extension": ".py",
   "mimetype": "text/x-python",
   "name": "python",
   "nbconvert_exporter": "python",
   "pygments_lexer": "ipython3",
   "version": "3.10.8"
  },
  "orig_nbformat": 4,
  "vscode": {
   "interpreter": {
    "hash": "e0acaf148705ed9ed86cc5cad12259d7985e30670e5686e5f55604a9b3b84a55"
   }
  }
 },
 "nbformat": 4,
 "nbformat_minor": 2
}
