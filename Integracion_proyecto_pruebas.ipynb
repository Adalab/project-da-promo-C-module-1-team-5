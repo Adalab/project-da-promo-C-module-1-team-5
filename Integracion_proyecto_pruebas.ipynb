{
 "cells": [
  {
   "cell_type": "markdown",
   "metadata": {},
   "source": [
    "# Creamos Base de datos #"
   ]
  },
  {
   "cell_type": "code",
   "execution_count": 18,
   "metadata": {},
   "outputs": [
    {
     "name": "stdout",
     "output_type": "stream",
     "text": [
      "MySQLCursor: CREATE DATABASE IF NOT EXISTS Project_1\n"
     ]
    }
   ],
   "source": [
    "import mysql.connector\n",
    "\n",
    "cnx = mysql.connector.connect(user='root', password='AlumnaAdalab',\n",
    "                              host='127.0.0.1')\n",
    "\n",
    "\n",
    "mycursor = cnx.cursor()\n",
    "try:\n",
    "    mycursor.execute(\"CREATE DATABASE IF NOT EXISTS Project_1\")\n",
    "    print(mycursor)\n",
    "except mysql.connector.Error as err:\n",
    "    print(err)\n",
    "    print(\"Error Code:\", err.errno)\n",
    "    print(\"SQLSTATE\", err.sqlstate)\n",
    "    print(\"Message\", err.msg)"
   ]
  },
  {
   "cell_type": "markdown",
   "metadata": {},
   "source": [
    "# Creamos tablas #"
   ]
  },
  {
   "cell_type": "code",
   "execution_count": 19,
   "metadata": {},
   "outputs": [],
   "source": [
    "import mysql.connector\n",
    "\n",
    "# Creamos una funcion para crear la tabla correspondiente a cada extension de archivo, dentro de la Base de Datos Project_1\n",
    "\n",
    "def creacion_tablas (query_tablas):\n",
    "    \n",
    "    cnx = mysql.connector.connect(user='root', password='AlumnaAdalab',\n",
    "                              host='127.0.0.1', database='Project_1')\n",
    "\n",
    "\n",
    "    mycursor = cnx.cursor()\n",
    "    try:\n",
    "        mycursor.execute(query_tablas)\n",
    "        cnx.commit()\n",
    "        print(mycursor)\n",
    "    \n",
    "    except mysql.connector.Error as err:\n",
    "        print(err)\n",
    "        print(\"Error Code:\", err.errno)\n",
    "        print(\"SQLSTATE\", err.sqlstate)\n",
    "        print(\"Message\", err.msg)\n",
    "\n"
   ]
  },
  {
   "cell_type": "code",
   "execution_count": 20,
   "metadata": {},
   "outputs": [],
   "source": [
    "#Definimos query de creacion de tablas sql.\n",
    "\n",
    "tabla_sql = (\"\"\"CREATE TABLE `data_sql` (\n",
    "  `index_sql` int NOT NULL,\n",
    "  `q10_part_1` varchar(55) DEFAULT NULL,\n",
    "  `q10_part_2` varchar(55) DEFAULT NULL,\n",
    "  `q10_part_3` varchar(55) DEFAULT NULL,\n",
    "  `q10_part_4` varchar(55) DEFAULT NULL,\n",
    "  `q10_part_5` varchar(55) DEFAULT NULL,\n",
    "  `q10_part_6` varchar(55) DEFAULT NULL,\n",
    "  `q10_part_7` varchar(55) DEFAULT NULL,\n",
    "  `q10_part_8` varchar(55) DEFAULT NULL,\n",
    "  `q10_part_9` varchar(55) DEFAULT NULL,\n",
    "  `q10_part_10` varchar(55) DEFAULT NULL,\n",
    "  `q10_part_11` varchar(55) DEFAULT NULL,\n",
    "  `q10_part_12` varchar(55) DEFAULT NULL,\n",
    "  `q10_part_13` varchar(55) DEFAULT NULL,\n",
    "  `q10_part_14` varchar(55) DEFAULT NULL,\n",
    "  `q10_part_15` varchar(55) DEFAULT NULL,\n",
    "  `q10_part_16` varchar(55) DEFAULT NULL,\n",
    "  `q10_other` varchar(55) DEFAULT NULL,\n",
    "  PRIMARY KEY (`index_sql`)\n",
    ");\"\"\")"
   ]
  },
  {
   "cell_type": "code",
   "execution_count": 21,
   "metadata": {},
   "outputs": [],
   "source": [
    "#Definimos query de creacion de tablas xml.\n",
    "\n",
    "tabla_xml =(\"\"\"CREATE TABLE IF NOT EXISTS data_xml (\n",
    "`index_0` INT,\n",
    "`index_xml`INT NOT NULL PRIMARY KEY,\n",
    "`time` INT,\n",
    "`age` VARCHAR(20),\n",
    "`gender` text(100),\n",
    "`index_sql` INT,\n",
    "CONSTRAINT `fk_data_xml_data_sql`\n",
    "FOREIGN KEY (`index_sql`)\n",
    "REFERENCES `data_sql` (`index_sql`)\n",
    "ON DELETE CASCADE\n",
    "ON UPDATE CASCADE\n",
    ");\"\"\")"
   ]
  },
  {
   "cell_type": "code",
   "execution_count": 22,
   "metadata": {},
   "outputs": [],
   "source": [
    "#Definimos query de creacion de tablas txt.\n",
    "\n",
    "tabla_txt =(\"\"\" CREATE TABLE IF NOT EXISTS data_txt (\n",
    "index_txt INT NOT NULL PRIMARY KEY,\n",
    "index_sql INT,\n",
    "q3 VARCHAR (50),\n",
    "q4 VARCHAR (50),\n",
    "q5 VARCHAR (50),\n",
    "q6 VARCHAR (50),\n",
    "q7 VARCHAR (50),\n",
    "q8 VARCHAR (50),\n",
    "q9 VARCHAR (50),\n",
    "q11 VARCHAR (50),\n",
    "q12 VARCHAR (50),\n",
    "q13 VARCHAR (50),\n",
    "q14 VARCHAR (50),\n",
    "q15 VARCHAR (50),\n",
    "q16 VARCHAR (50),\n",
    "q17 VARCHAR (50),\n",
    "q20 VARCHAR (50),\n",
    "q21 VARCHAR (50),\n",
    "q22 VARCHAR (50),\n",
    "q23 VARCHAR (50),\n",
    "q24 VARCHAR (50),\n",
    "q25 VARCHAR (50),\n",
    "q26 VARCHAR (50),\n",
    "q32 VARCHAR (50),\n",
    "q33 VARCHAR (50),\n",
    "q34 VARCHAR (50),\n",
    "q35 VARCHAR (50),\n",
    "q41 VARCHAR (50),\n",
    "CONSTRAINT `fk_data_txt_data_sql`\n",
    "\tFOREIGN KEY (`index_sql`) \n",
    "\tREFERENCES `data_sql` (`index_sql`)\n",
    "\tON DELETE CASCADE\n",
    "\tON UPDATE CASCADE\n",
    "    );\"\"\")"
   ]
  },
  {
   "cell_type": "code",
   "execution_count": 23,
   "metadata": {},
   "outputs": [
    {
     "name": "stdout",
     "output_type": "stream",
     "text": [
      "MySQLCursor: CREATE TABLE `data_sql` (\n",
      "  `index_sql` ..\n",
      "MySQLCursor: CREATE TABLE IF NOT EXISTS data_xml (\n",
      "`i..\n",
      "MySQLCursor:  CREATE TABLE IF NOT EXISTS data_txt (\n",
      "i..\n"
     ]
    }
   ],
   "source": [
    "# Corremos las funciones para que se creen cada una de las tablas.\n",
    "\n",
    "creacion_tablas(tabla_sql)\n",
    "creacion_tablas(tabla_xml)\n",
    "creacion_tablas (tabla_txt)\n",
    "\n"
   ]
  },
  {
   "cell_type": "markdown",
   "metadata": {},
   "source": [
    "Una vez creada la base de datos y la tabla tenemos que insertar los valores que tenemos para cada una de ellas, se nos presenta la situacion de que los datos que contiene cada archivo no estan  listos para ser cargados, es necesario que realicemos limpieza de los mismos con distintas funciones dependiendo del tipo de archivo que tratemos, para ellos vamos a definir una clase que identifique que extencion de archivo estamos leyendo y proceda a realizarle las modificaciones necesarias para cargar sus datos en la tabla correspondiente. "
   ]
  },
  {
   "cell_type": "markdown",
   "metadata": {},
   "source": [
    "#### Importamos librerias:"
   ]
  },
  {
   "cell_type": "code",
   "execution_count": 24,
   "metadata": {},
   "outputs": [],
   "source": [
    "import re\n",
    "import os\n",
    "import os.path\n",
    "import xml.etree.ElementTree as ET\n",
    "import mysql.connector\n"
   ]
  },
  {
   "cell_type": "code",
   "execution_count": 36,
   "metadata": {},
   "outputs": [],
   "source": [
    "class Limpieza_datos:\n",
    "\n",
    "    def __init__(self,nombre_archivo):\n",
    "        self.nombre_archivo = nombre_archivo\n",
    "        #self.extension_archivo = extension_archivo\n",
    "\n",
    "    \n",
    "   \n",
    "\n",
    "    def  abrir_archivos (self):\n",
    "    \n",
    "            nombre = os.path.splitext(self)[0]\n",
    "            extension = os.path.splitext(self)[1]\n",
    "\n",
    "            if extension == '.xml':  #funciones xml para lectura ficheros.\n",
    "                tree = ET.parse('../data/self.data_xml.xml')\n",
    "                root = tree.getroot()\n",
    "\n",
    "                self.nombre_archivo = []\n",
    "                for child in root:\n",
    "                        xml_dict = {}\n",
    "                        for subchild in child:\n",
    "                            xml_dict[subchild.tag] = subchild.text\n",
    "                return self.nombre_archivo.append(xml_dict)\n",
    "\n",
    "            \n",
    "            #entonces tendremos que cerrar el archivo despues de abrirlo??\n",
    "\n",
    "            elif extension == '.txt':  #funciones txt para lectura ficheros.\n",
    "\n",
    "                with open('../data/self.data_txt_reorder.txt','r') as file:\n",
    "                    self.nombre_archivo = file.readlines()\n",
    "\n",
    "                return self.nombre_archivo\n",
    "\n",
    "           \n",
    "\n",
    "            #elif extension == '.sql':\n",
    "            #funciones sql para lectura ficheros(ver que ya lo leemos directamente en sql!)\n",
    "    \n",
    "    def limpieza_datos (self):\n",
    "\n",
    "            nombre = os.path.splitext(self)[0]\n",
    "            extension = os.path.splitext(self)[1]\n",
    "\n",
    "            if extension == '.xml':\n",
    "                \n",
    "            #def limpieza_datos (self):\n",
    "\n",
    "                #nombre = os.path.splitext(self)[0]\n",
    "                #extension = os.path.splitext(self)[1]\n",
    "\n",
    "            #if extension == '.xml'\n",
    "                for dictionary in self:\n",
    "                    if dictionary.get('gender') == '0':\n",
    "                        dictionary['gender'] = 'Man'\n",
    "                    elif dictionary.get('gender') == '1':\n",
    "                        dictionary['gender'] = 'Woman'\n",
    "                    elif dictionary.get('gender') == '2':\n",
    "                        dictionary['gender'] = 'Nonbinary'\n",
    "                    elif dictionary.get('gender') == '3':\n",
    "                        dictionary['gender'] = 'Prefer not to say'\n",
    "                    elif dictionary.get('gender') == '4':\n",
    "                        dictionary['gender'] = 'Prefer to self-describe'\n",
    "                    else:    \n",
    "                        print(f\"There is an error, the unlisted values is : {dictionary.get('gender')}\")\n",
    "            \n",
    "                lista_tupla= []\n",
    "                for i in self:\n",
    "                    lista_tupla.append(tuple(i.values()))\n",
    "\n",
    "                return lista_tupla \n",
    "   \n",
    "            \n",
    "            elif extension == '.txt':\n",
    "                \n",
    "                lista_puntocoma = []\n",
    "                lista_espacios = []\n",
    "                lista_under = []  \n",
    "                lista_final = []  \n",
    "                lista_tupla = []\n",
    "                lista_tupla_txt = []\n",
    "\n",
    "            #def limpieza_txt (self): # Vamos a quitar los puntos y comas de la lista y convertir cada string en lista.\n",
    "                for i in self:\n",
    "            \n",
    "                    lista_intermedia = i.split(\";\")\n",
    "                    lista_puntocoma.append(lista_intermedia)\n",
    "\n",
    "            #def espacios(self):# Vamos a quitar los espacios de mas en cada string.\n",
    "                for sublista in lista_puntocoma[1:]:\n",
    "\n",
    "                    lista_almancenado_strings = []\n",
    "\n",
    "                    for palabra in sublista:\n",
    "                        palabra = palabra.strip()\n",
    "                    lista_almancenado_strings.append(palabra)\n",
    "                \n",
    "                lista_espacios.append(lista_almancenado_strings)\n",
    "\n",
    "             #def under(self):\n",
    "                for sublista in lista_espacios[:]:\n",
    "                    \n",
    "                    lista_almancenado_under = []\n",
    "\n",
    "                    for palabra in sublista:\n",
    "                        i = palabra.replace('<','under')\n",
    "                    lista_almancenado_under.append(i)\n",
    "        \n",
    "                lista_under.append(lista_almancenado_under)\n",
    "\n",
    "            #def null(self):\n",
    "                for sublista in lista_under[:]:\n",
    "\n",
    "                    lista_almancenado_null = []\n",
    "                    for palabra in sublista:\n",
    "                        x = palabra.replace('null','NULL')\n",
    "                    lista_almancenado_null.append(x)\n",
    "    \n",
    "                lista_final.append(lista_almancenado_null)\n",
    "\n",
    "                for z in lista_final:\n",
    "                    lista_tupla = tuple(z) \n",
    "                    lista_tupla_txt.append(lista_tupla)   \n",
    "\n",
    "                return lista_tupla_txt\n",
    "          \n",
    "            #elif extension == '.sql':\n",
    "\n",
    "\n",
    "            #funciones sql limpieza\n"
   ]
  },
  {
   "cell_type": "markdown",
   "metadata": {},
   "source": [
    "Creamos cada una de las clases por cada extension de archivo.\n"
   ]
  },
  {
   "cell_type": "code",
   "execution_count": 37,
   "metadata": {},
   "outputs": [],
   "source": [
    "xml_class = Limpieza_datos('data_xml.xml')"
   ]
  },
  {
   "cell_type": "code",
   "execution_count": 38,
   "metadata": {},
   "outputs": [],
   "source": [
    "txt_class = Limpieza_datos('data_txt.txt')"
   ]
  },
  {
   "cell_type": "code",
   "execution_count": 39,
   "metadata": {},
   "outputs": [],
   "source": [
    "sql_class = Limpieza_datos('data_sql.sql')"
   ]
  },
  {
   "cell_type": "markdown",
   "metadata": {},
   "source": [
    "Llamamos a las funciones de la clase de apertura y limpieza del archivo.\n"
   ]
  },
  {
   "cell_type": "code",
   "execution_count": 40,
   "metadata": {},
   "outputs": [
    {
     "ename": "AttributeError",
     "evalue": "'Limpieza_datos' object has no attribute 'lectura_archivo'",
     "output_type": "error",
     "traceback": [
      "\u001b[1;31m---------------------------------------------------------------------------\u001b[0m",
      "\u001b[1;31mAttributeError\u001b[0m                            Traceback (most recent call last)",
      "Cell \u001b[1;32mIn [40], line 1\u001b[0m\n\u001b[1;32m----> 1\u001b[0m xml_lista \u001b[39m=\u001b[39m xml_class\u001b[39m.\u001b[39;49mlectura_archivo()\n",
      "\u001b[1;31mAttributeError\u001b[0m: 'Limpieza_datos' object has no attribute 'lectura_archivo'"
     ]
    }
   ],
   "source": [
    "xml_lista = xml_class.lectura_archivo()\n"
   ]
  },
  {
   "cell_type": "code",
   "execution_count": null,
   "metadata": {},
   "outputs": [],
   "source": []
  },
  {
   "cell_type": "code",
   "execution_count": null,
   "metadata": {},
   "outputs": [
    {
     "ename": "NameError",
     "evalue": "name 'xml_lista' is not defined",
     "output_type": "error",
     "traceback": [
      "\u001b[1;31m---------------------------------------------------------------------------\u001b[0m",
      "\u001b[1;31mNameError\u001b[0m                                 Traceback (most recent call last)",
      "Cell \u001b[1;32mIn [31], line 1\u001b[0m\n\u001b[1;32m----> 1\u001b[0m xml_limpio \u001b[39m=\u001b[39m xml_class\u001b[39m.\u001b[39mlimpieza_datos(xml_lista)\n",
      "\u001b[1;31mNameError\u001b[0m: name 'xml_lista' is not defined"
     ]
    }
   ],
   "source": [
    "xml_limpio = xml_class.limpieza_datos(xml_lista)"
   ]
  },
  {
   "cell_type": "code",
   "execution_count": null,
   "metadata": {},
   "outputs": [
    {
     "ename": "AttributeError",
     "evalue": "'Limpieza_datos' object has no attribute 'lectura_archivo'",
     "output_type": "error",
     "traceback": [
      "\u001b[1;31m---------------------------------------------------------------------------\u001b[0m",
      "\u001b[1;31mAttributeError\u001b[0m                            Traceback (most recent call last)",
      "Cell \u001b[1;32mIn [32], line 1\u001b[0m\n\u001b[1;32m----> 1\u001b[0m txt_lista \u001b[39m=\u001b[39m txt_class\u001b[39m.\u001b[39;49mlectura_archivo()\n",
      "\u001b[1;31mAttributeError\u001b[0m: 'Limpieza_datos' object has no attribute 'lectura_archivo'"
     ]
    }
   ],
   "source": [
    "txt_lista = txt_class.lectura_archivo()"
   ]
  },
  {
   "cell_type": "code",
   "execution_count": null,
   "metadata": {},
   "outputs": [
    {
     "ename": "NameError",
     "evalue": "name 'txt_lista' is not defined",
     "output_type": "error",
     "traceback": [
      "\u001b[1;31m---------------------------------------------------------------------------\u001b[0m",
      "\u001b[1;31mNameError\u001b[0m                                 Traceback (most recent call last)",
      "Cell \u001b[1;32mIn [33], line 1\u001b[0m\n\u001b[1;32m----> 1\u001b[0m txt_limpio \u001b[39m=\u001b[39m txt_class\u001b[39m.\u001b[39mlimpieza_datos(txt_lista)\n",
      "\u001b[1;31mNameError\u001b[0m: name 'txt_lista' is not defined"
     ]
    }
   ],
   "source": [
    "txt_limpio = txt_class.limpieza_datos(txt_lista)"
   ]
  },
  {
   "cell_type": "code",
   "execution_count": null,
   "metadata": {},
   "outputs": [
    {
     "ename": "AttributeError",
     "evalue": "'Limpieza_datos' object has no attribute 'lectura_archivo'",
     "output_type": "error",
     "traceback": [
      "\u001b[1;31m---------------------------------------------------------------------------\u001b[0m",
      "\u001b[1;31mAttributeError\u001b[0m                            Traceback (most recent call last)",
      "Cell \u001b[1;32mIn [34], line 1\u001b[0m\n\u001b[1;32m----> 1\u001b[0m sql_lista \u001b[39m=\u001b[39m sql_class\u001b[39m.\u001b[39;49mlectura_archivo()\n",
      "\u001b[1;31mAttributeError\u001b[0m: 'Limpieza_datos' object has no attribute 'lectura_archivo'"
     ]
    }
   ],
   "source": [
    "sql_lista = sql_class.lectura_archivo()"
   ]
  },
  {
   "cell_type": "code",
   "execution_count": null,
   "metadata": {},
   "outputs": [
    {
     "ename": "NameError",
     "evalue": "name 'sql_lista' is not defined",
     "output_type": "error",
     "traceback": [
      "\u001b[1;31m---------------------------------------------------------------------------\u001b[0m",
      "\u001b[1;31mNameError\u001b[0m                                 Traceback (most recent call last)",
      "Cell \u001b[1;32mIn [35], line 1\u001b[0m\n\u001b[1;32m----> 1\u001b[0m sql_limpio \u001b[39m=\u001b[39m sql_class\u001b[39m.\u001b[39mlimpieza_datos(sql_lista)\n",
      "\u001b[1;31mNameError\u001b[0m: name 'sql_lista' is not defined"
     ]
    }
   ],
   "source": [
    "sql_limpio = sql_class.limpieza_datos(sql_lista)"
   ]
  },
  {
   "cell_type": "markdown",
   "metadata": {},
   "source": [
    "Una vez limpios los datos necesitamos extraer los valores de cada archivo en una query para poder asi cargarlos en las tablas respectivas.\n"
   ]
  },
  {
   "cell_type": "code",
   "execution_count": null,
   "metadata": {},
   "outputs": [],
   "source": [
    "query_val_xml = xml_limpio\n"
   ]
  },
  {
   "cell_type": "code",
   "execution_count": null,
   "metadata": {},
   "outputs": [],
   "source": [
    "query_val_txt = txt_limpio"
   ]
  },
  {
   "cell_type": "code",
   "execution_count": null,
   "metadata": {},
   "outputs": [],
   "source": [
    "query_val_sql = sql_limpio"
   ]
  },
  {
   "cell_type": "markdown",
   "metadata": {},
   "source": [
    "Para la carga de datos necesitamos tener los nombres de columnas de cada una de las tablas, por lo que creamos la query para cada una de las tablas:"
   ]
  },
  {
   "cell_type": "code",
   "execution_count": null,
   "metadata": {},
   "outputs": [],
   "source": [
    "query_sql_xml = ''' INSERT INTO data_xml (index_xml, time, age, gender, index_sql '''"
   ]
  },
  {
   "cell_type": "code",
   "execution_count": null,
   "metadata": {},
   "outputs": [],
   "source": [
    "query_sql_txt =''' INSERT INTO '''"
   ]
  },
  {
   "cell_type": "code",
   "execution_count": null,
   "metadata": {},
   "outputs": [],
   "source": [
    "query_sql_sql ="
   ]
  },
  {
   "cell_type": "markdown",
   "metadata": {},
   "source": [
    " # Insertamos datos en las tablas #"
   ]
  },
  {
   "cell_type": "code",
   "execution_count": null,
   "metadata": {},
   "outputs": [],
   "source": [
    "def insertar_datos (query_sql,query_val):\n",
    "\n",
    "  cnx = mysql.connector.connect(user='root', password='AlumnaAdalab',\n",
    "                              host='127.0.0.1', database='Project_1')\n",
    "\n",
    "\n",
    "  mycursor = cnx.cursor()\n",
    "  sql = \"INSERT INTO customers (name, address) VALUES (%s, %s)\"\n",
    "  val = [\n",
    "    ('Ana', 'Lowstreet 4'),\n",
    "    ('Rocio', 'Apple st 652'),\n",
    "    ('Juana', 'Mountain 21'),\n",
    "    ('Pedro', 'Valley 345')\n",
    "  ]\n",
    "\n",
    "  try: \n",
    "      mycursor.executemany(sql, val)\n",
    "      cnx.commit()\n",
    "      print(mycursor.rowcount, \"registro/s insertado/s.\")\n",
    "\n",
    "  except mysql.connector.Error as err:\n",
    "      print(err)\n",
    "      print(\"Error Code:\", err.errno)\n",
    "      print(\"SQLSTATE\", err.sqlstate)\n",
    "      print(\"Message\", err.msg)"
   ]
  }
 ],
 "metadata": {
  "kernelspec": {
   "display_name": "Python 3.10.8 64-bit (microsoft store)",
   "language": "python",
   "name": "python3"
  },
  "language_info": {
   "codemirror_mode": {
    "name": "ipython",
    "version": 3
   },
   "file_extension": ".py",
   "mimetype": "text/x-python",
   "name": "python",
   "nbconvert_exporter": "python",
   "pygments_lexer": "ipython3",
   "version": "3.10.8"
  },
  "orig_nbformat": 4,
  "vscode": {
   "interpreter": {
    "hash": "db5cedc7e114859ad608ddd0e9acad792dd59d9153581ae5b253a51e1afe4cda"
   }
  }
 },
 "nbformat": 4,
 "nbformat_minor": 2
}
