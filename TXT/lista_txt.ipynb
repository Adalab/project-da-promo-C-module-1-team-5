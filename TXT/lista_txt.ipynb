{
 "cells": [
  {
   "cell_type": "code",
   "execution_count": 1,
   "metadata": {},
   "outputs": [],
   "source": [
    "with open('../data/data_txt_reorder.txt','r') as file:\n",
    "    file_source = file.readlines() \n",
    "# Es una lista que cada línea del fichero txt \n",
    "# como un string de todos los datos."
   ]
  },
  {
   "cell_type": "code",
   "execution_count": 3,
   "metadata": {},
   "outputs": [],
   "source": [
    "      \n",
    "lista_puntocoma = []\n",
    "lista_espacios = []\n",
    "lista_under = []  \n",
    "lista_final = []  \n",
    "lista_tupla = []\n",
    "lista_tupla_txt = []\n",
    "\n",
    "def limpieza_txt (self): # Vamos a quitar los puntos y comas de la lista y convertir cada string en lista.\n",
    "\n",
    "        \n",
    "        for i in self:\n",
    "            \n",
    "            lista_intermedia = i.split(\";\")\n",
    "            \n",
    "            lista_puntocoma.append(lista_intermedia)\n",
    "            \n",
    "    #def espacios(self):# Vamos a quitar los espacios de mas en cada string.\n",
    "        \n",
    "        \n",
    "        for sublista in lista_puntocoma[1:]:\n",
    "\n",
    "            lista_almancenado_strings = []\n",
    "\n",
    "            for palabra in sublista:\n",
    "                palabra = palabra.strip()\n",
    "                lista_almancenado_strings.append(palabra)\n",
    "                \n",
    "            lista_espacios.append(lista_almancenado_strings)\n",
    "\n",
    "    #def under(self):\n",
    "\n",
    "        for sublista in lista_espacios[:]:\n",
    "    \n",
    "            lista_almancenado_under = []\n",
    "            for palabra in sublista:\n",
    "                i = palabra.replace('<','under')\n",
    "                lista_almancenado_under.append(i)\n",
    "        \n",
    "            lista_under.append(lista_almancenado_under)\n",
    "\n",
    "#def null(self):\n",
    "\n",
    "      \n",
    "    \n",
    "        for sublista in lista_under[:]:\n",
    "\n",
    "            lista_almancenado_null = []\n",
    "            for palabra in sublista:\n",
    "       \n",
    "                x = palabra.replace('null','NULL')\n",
    "                lista_almancenado_null.append(x)\n",
    "    \n",
    "            lista_final.append(lista_almancenado_null)\n",
    "\n",
    "\n",
    "        for z in lista_final:\n",
    "            lista_tupla = tuple(z) \n",
    "            lista_tupla_txt.append(lista_tupla)   \n",
    "\n",
    "        return lista_tupla_txt"
   ]
  },
  {
   "cell_type": "code",
   "execution_count": 109,
   "metadata": {},
   "outputs": [
    {
     "data": {
      "text/plain": [
       "27"
      ]
     },
     "execution_count": 109,
     "metadata": {},
     "output_type": "execute_result"
    }
   ],
   "source": [
    "#lista_columna = tuple(file_source[0])\n",
    "#lista_columna no funciona \n",
    "\n",
    "c1 = file_source[0].replace('\\n',\"\")\n",
    "columna1 = c1.strip()\n",
    "columnas2 = columna1.split(\";\")\n",
    "columna_tupla = tuple(columnas2)\n",
    "\n",
    "columna_tupla\n",
    "len(columna_tupla)\n"
   ]
  },
  {
   "cell_type": "code",
   "execution_count": 110,
   "metadata": {},
   "outputs": [
    {
     "data": {
      "text/plain": [
       "('index_sql',\n",
       " 'Q3',\n",
       " 'Q4',\n",
       " 'Q5',\n",
       " 'Q6',\n",
       " 'Q7',\n",
       " 'Q8',\n",
       " 'Q9',\n",
       " 'Q11',\n",
       " 'Q12',\n",
       " 'Q13',\n",
       " 'Q14',\n",
       " 'Q15',\n",
       " 'Q16',\n",
       " 'Q17',\n",
       " 'Q20',\n",
       " 'Q21',\n",
       " 'Q22',\n",
       " 'Q23',\n",
       " 'Q24',\n",
       " 'Q25',\n",
       " 'Q26',\n",
       " 'Q32',\n",
       " 'Q33',\n",
       " 'Q34',\n",
       " 'Q35',\n",
       " 'Q41')"
      ]
     },
     "execution_count": 110,
     "metadata": {},
     "output_type": "execute_result"
    }
   ],
   "source": [
    "columna_tupla"
   ]
  },
  {
   "cell_type": "code",
   "execution_count": 98,
   "metadata": {},
   "outputs": [
    {
     "ename": "AttributeError",
     "evalue": "'list' object has no attribute 'replace'",
     "output_type": "error",
     "traceback": [
      "\u001b[0;31m---------------------------------------------------------------------------\u001b[0m",
      "\u001b[0;31mAttributeError\u001b[0m                            Traceback (most recent call last)",
      "\u001b[0;32m/var/folders/66/3gn2x5sj3tlfxjp4wp1zg9n00000gn/T/ipykernel_26810/2016589304.py\u001b[0m in \u001b[0;36m<module>\u001b[0;34m\u001b[0m\n\u001b[1;32m      1\u001b[0m \u001b[0mc2\u001b[0m \u001b[0;34m=\u001b[0m \u001b[0mlist\u001b[0m\u001b[0;34m(\u001b[0m\u001b[0mcolumna_tupla\u001b[0m\u001b[0;34m)\u001b[0m \u001b[0;31m#.replace('\\n',\"\"))\u001b[0m\u001b[0;34m\u001b[0m\u001b[0;34m\u001b[0m\u001b[0m\n\u001b[0;32m----> 2\u001b[0;31m \u001b[0mc2\u001b[0m\u001b[0;34m.\u001b[0m\u001b[0mreplace\u001b[0m\u001b[0;34m(\u001b[0m\u001b[0;34m'\\n'\u001b[0m\u001b[0;34m,\u001b[0m\u001b[0;34m\"\"\u001b[0m\u001b[0;34m)\u001b[0m\u001b[0;34m\u001b[0m\u001b[0;34m\u001b[0m\u001b[0m\n\u001b[0m",
      "\u001b[0;31mAttributeError\u001b[0m: 'list' object has no attribute 'replace'"
     ]
    }
   ],
   "source": [
    "#c2 = list(columna_tupla) #.replace('\\n',\"\"))\n",
    "#c2.replace('\\n',\"\")"
   ]
  },
  {
   "cell_type": "code",
   "execution_count": 82,
   "metadata": {},
   "outputs": [],
   "source": [
    "values_txt = limpieza_txt(file_source)"
   ]
  },
  {
   "cell_type": "code",
   "execution_count": 85,
   "metadata": {},
   "outputs": [],
   "source": [
    "query1 = \"\"\"CREATE TABLE `data_txt` (\n",
    "  `index_txt` int auto_increment NOT NULL,\n",
    "  `index_sql` int DEFAULT NULL,\n",
    "  `q3` varchar(50) DEFAULT NULL,\n",
    "  `q4` varchar(50) DEFAULT NULL,\n",
    "  `q5` varchar(50) DEFAULT NULL,\n",
    "  `q6` varchar(50) DEFAULT NULL,\n",
    "  `q7` varchar(50) DEFAULT NULL,\n",
    "  `q8` varchar(50) DEFAULT NULL,\n",
    "  `q9` varchar(50) DEFAULT NULL,\n",
    "  `q11` varchar(50) DEFAULT NULL,\n",
    "  `q12` varchar(50) DEFAULT NULL,\n",
    "  `q13` varchar(50) DEFAULT NULL,\n",
    "  `q14` varchar(50) DEFAULT NULL,\n",
    "  `q15` varchar(50) DEFAULT NULL,\n",
    "  `q16` varchar(50) DEFAULT NULL,\n",
    "  `q17` varchar(50) DEFAULT NULL,\n",
    "  `q20` varchar(50) DEFAULT NULL,\n",
    "  `q21` varchar(50) DEFAULT NULL,\n",
    "  `q22` varchar(50) DEFAULT NULL,\n",
    "  `q23` varchar(50) DEFAULT NULL,\n",
    "  `q24` varchar(50) DEFAULT NULL,\n",
    "  `q25` varchar(50) DEFAULT NULL,\n",
    "  `q26` varchar(50) DEFAULT NULL,\n",
    "  `q32` varchar(50) DEFAULT NULL,\n",
    "  `q33` varchar(50) DEFAULT NULL,\n",
    "  `q34` varchar(50) DEFAULT NULL,\n",
    "  `q35` varchar(50) DEFAULT NULL,\n",
    "  `q41` varchar(50) DEFAULT NULL,\n",
    "  PRIMARY KEY (`index_txt`),\n",
    "  KEY `fk_data_txt_data_sql` (`index_sql`),\n",
    "  CONSTRAINT `fk_data_txt_data_sql` FOREIGN KEY (`index_sql`) REFERENCES `data_sql` (`index_sql`) ON DELETE CASCADE ON UPDATE CASCADE\n",
    ")\"\"\"\n",
    "\n",
    "\n",
    "\n",
    "\n",
    "\n",
    "\n",
    "\n",
    "\n",
    "\n",
    "\n",
    "\n"
   ]
  },
  {
   "cell_type": "code",
   "execution_count": 86,
   "metadata": {},
   "outputs": [
    {
     "name": "stdout",
     "output_type": "stream",
     "text": [
      "MySQLCursor: CREATE TABLE `data_txt` (\n",
      "  `index_txt` ..\n"
     ]
    }
   ],
   "source": [
    "import mysql.connector\n",
    "\n",
    "cnx = mysql.connector.connect(user='root', password='AlumnaAdalab',\n",
    "                              host='127.0.0.1', database='Project_1')\n",
    "\n",
    "\n",
    "mycursor = cnx.cursor()\n",
    "try:\n",
    "    mycursor.execute(query1)\n",
    "    print(mycursor)\n",
    "except mysql.connector.Error as err:\n",
    "    print(err)\n",
    "    print(\"Error Code:\", err.errno)\n",
    "    print(\"SQLSTATE\", err.sqlstate)\n",
    "    print(\"Message\", err.msg)"
   ]
  },
  {
   "cell_type": "code",
   "execution_count": 118,
   "metadata": {},
   "outputs": [
    {
     "name": "stdout",
     "output_type": "stream",
     "text": [
      "1064 (42000): You have an error in your SQL syntax; check the manual that corresponds to your MySQL server version for the right syntax to use near ''index_sql',\n",
      " 'Q3',\n",
      " 'Q4',\n",
      " 'Q5',\n",
      " 'Q6',\n",
      " 'Q7',\n",
      " 'Q8',\n",
      " 'Q9',\n",
      " 'Q11',\n",
      " 'Q12',\n",
      " '' at line 1\n",
      "Error Code: 1064\n",
      "SQLSTATE 42000\n",
      "Message You have an error in your SQL syntax; check the manual that corresponds to your MySQL server version for the right syntax to use near ''index_sql',\n",
      " 'Q3',\n",
      " 'Q4',\n",
      " 'Q5',\n",
      " 'Q6',\n",
      " 'Q7',\n",
      " 'Q8',\n",
      " 'Q9',\n",
      " 'Q11',\n",
      " 'Q12',\n",
      " '' at line 1\n"
     ]
    }
   ],
   "source": [
    "import mysql.connector\n",
    "\n",
    "cnx = mysql.connector.connect(user='root', password='AlumnaAdalab',\n",
    "                              host='127.0.0.1', database='Project_1')\n",
    "\n",
    "\n",
    "\n",
    "mycursor = cnx.cursor()\n",
    "sql = \"\"\"INSERT INTO data_txt ('index_sql',\n",
    " 'Q3',\n",
    " 'Q4',\n",
    " 'Q5',\n",
    " 'Q6',\n",
    " 'Q7',\n",
    " 'Q8',\n",
    " 'Q9',\n",
    " 'Q11',\n",
    " 'Q12',\n",
    " 'Q13',\n",
    " 'Q14',\n",
    " 'Q15',\n",
    " 'Q16',\n",
    " 'Q17',\n",
    " 'Q20',\n",
    " 'Q21',\n",
    " 'Q22',\n",
    " 'Q23',\n",
    " 'Q24',\n",
    " 'Q25',\n",
    " 'Q26',\n",
    " 'Q32',\n",
    " 'Q33',\n",
    " 'Q34',\n",
    " 'Q35',\n",
    " 'Q41') VALUES (%s,%s,%s,%s,%s,%s,%s,%s,%s,%s,%s,%s,%s,%s,%s,%s,%s,%s,%s,%s,%s,%s,%s,%s,%s,%s,%s)\"\"\"\n",
    "val = values_txt\n",
    "\n",
    "try: \n",
    "    mycursor.executemany(sql, val)\n",
    "    #cnx.commit()\n",
    "    print(mycursor.rowcount, \"registro/s insertado/s.\")\n",
    "\n",
    "except mysql.connector.Error as err:\n",
    "    print(err)\n",
    "    print(\"Error Code:\", err.errno)\n",
    "    print(\"SQLSTATE\", err.sqlstate)\n",
    "    print(\"Message\", err.msg)"
   ]
  },
  {
   "cell_type": "code",
   "execution_count": null,
   "metadata": {},
   "outputs": [],
   "source": []
  }
 ],
 "metadata": {
  "kernelspec": {
   "display_name": "Python 3.9.7 ('base')",
   "language": "python",
   "name": "python3"
  },
  "language_info": {
   "codemirror_mode": {
    "name": "ipython",
    "version": 3
   },
   "file_extension": ".py",
   "mimetype": "text/x-python",
   "name": "python",
   "nbconvert_exporter": "python",
   "pygments_lexer": "ipython3",
   "version": "3.9.7"
  },
  "orig_nbformat": 4,
  "vscode": {
   "interpreter": {
    "hash": "651c3b7b3f466eb030aa737f279c846be4db9cba49a2f229278cab5e41121ed5"
   }
  }
 },
 "nbformat": 4,
 "nbformat_minor": 2
}
