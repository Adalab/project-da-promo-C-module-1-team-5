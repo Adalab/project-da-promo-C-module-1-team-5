{
 "cells": [
  {
   "cell_type": "code",
   "execution_count": 142,
   "metadata": {},
   "outputs": [],
   "source": [
    "list_hml_10_dict= [{'level_0': '1', 'index': '1', 'time': '784', 'age': '50-54', 'gender': '0'},\n",
    " {'level_0': '2', 'index': '2', 'time': '924', 'age': '22-24', 'gender': '1'},\n",
    " {'level_0': '3', 'index': '3', 'time': '575', 'age': '45-49', 'gender': '2'},\n",
    " {'level_0': '4', 'index': '4', 'time': '781', 'age': '45-49', 'gender': '3'},\n",
    " {'level_0': '5', 'index': '5', 'time': '1020', 'age': '25-29', 'gender': '4'},\n",
    " {'level_0': '6', 'index': '6', 'time': '141', 'age': '18-21', 'gender': '10'},\n",
    " {'level_0': '7', 'index': '7', 'time': '484', 'age': '30-34', 'gender': '0'},\n",
    " {'level_0': '8', 'index': '8', 'time': '1744', 'age': '22-24', 'gender': '0'},\n",
    " {'level_0': '9', 'index': '9', 'time': '655', 'age': '30-34', 'gender': '0'},\n",
    " {'level_0': '10','index': '10', 'time': '1777','age': '40-44','gender': '0'}]"
   ]
  },
  {
   "cell_type": "code",
   "execution_count": 143,
   "metadata": {},
   "outputs": [
    {
     "data": {
      "text/plain": [
       "[{'level_0': '1', 'index': '1', 'time': '784', 'age': '50-54', 'gender': '0'},\n",
       " {'level_0': '2', 'index': '2', 'time': '924', 'age': '22-24', 'gender': '1'},\n",
       " {'level_0': '3', 'index': '3', 'time': '575', 'age': '45-49', 'gender': '2'},\n",
       " {'level_0': '4', 'index': '4', 'time': '781', 'age': '45-49', 'gender': '3'},\n",
       " {'level_0': '5', 'index': '5', 'time': '1020', 'age': '25-29', 'gender': '4'},\n",
       " {'level_0': '6', 'index': '6', 'time': '141', 'age': '18-21', 'gender': '10'},\n",
       " {'level_0': '7', 'index': '7', 'time': '484', 'age': '30-34', 'gender': '0'},\n",
       " {'level_0': '8', 'index': '8', 'time': '1744', 'age': '22-24', 'gender': '0'},\n",
       " {'level_0': '9', 'index': '9', 'time': '655', 'age': '30-34', 'gender': '0'},\n",
       " {'level_0': '10',\n",
       "  'index': '10',\n",
       "  'time': '1777',\n",
       "  'age': '40-44',\n",
       "  'gender': '0'}]"
      ]
     },
     "execution_count": 143,
     "metadata": {},
     "output_type": "execute_result"
    }
   ],
   "source": [
    "list_hml_10_dict"
   ]
  },
  {
   "cell_type": "code",
   "execution_count": 144,
   "metadata": {},
   "outputs": [
    {
     "name": "stdout",
     "output_type": "stream",
     "text": [
      "There is an error, the unlisted values is : 10\n"
     ]
    }
   ],
   "source": [
    "for dictionary in list_hml_10_dict:\n",
    "    if dictionary.get('gender') == '0':\n",
    "        dictionary['gender'] = 'Man'\n",
    "    elif dictionary.get('gender') == '1':\n",
    "        dictionary['gender'] = 'Woman'\n",
    "    elif dictionary.get('gender') == '2':\n",
    "        dictionary['gender'] = 'Nonbinary'\n",
    "    elif dictionary.get('gender') == '3':\n",
    "        dictionary['gender'] = 'Prefer not to say'\n",
    "    elif dictionary.get('gender') == '4':\n",
    "        dictionary['gender'] = 'Prefer to self-describe'\n",
    "    else:    \n",
    "       print(f\"There is an error, the unlisted values is : {dictionary.get('gender')}\")\n",
    "       \n"
   ]
  },
  {
   "cell_type": "code",
   "execution_count": 145,
   "metadata": {},
   "outputs": [
    {
     "data": {
      "text/plain": [
       "[{'level_0': '1',\n",
       "  'index': '1',\n",
       "  'time': '784',\n",
       "  'age': '50-54',\n",
       "  'gender': 'male'},\n",
       " {'level_0': '2',\n",
       "  'index': '2',\n",
       "  'time': '924',\n",
       "  'age': '22-24',\n",
       "  'gender': 'female'},\n",
       " {'level_0': '3',\n",
       "  'index': '3',\n",
       "  'time': '575',\n",
       "  'age': '45-49',\n",
       "  'gender': 'nonbinary'},\n",
       " {'level_0': '4',\n",
       "  'index': '4',\n",
       "  'time': '781',\n",
       "  'age': '45-49',\n",
       "  'gender': 'prefer not to say'},\n",
       " {'level_0': '5',\n",
       "  'index': '5',\n",
       "  'time': '1020',\n",
       "  'age': '25-29',\n",
       "  'gender': 'Prefer to self-describe'},\n",
       " {'level_0': '6', 'index': '6', 'time': '141', 'age': '18-21', 'gender': '10'},\n",
       " {'level_0': '7',\n",
       "  'index': '7',\n",
       "  'time': '484',\n",
       "  'age': '30-34',\n",
       "  'gender': 'male'},\n",
       " {'level_0': '8',\n",
       "  'index': '8',\n",
       "  'time': '1744',\n",
       "  'age': '22-24',\n",
       "  'gender': 'male'},\n",
       " {'level_0': '9',\n",
       "  'index': '9',\n",
       "  'time': '655',\n",
       "  'age': '30-34',\n",
       "  'gender': 'male'},\n",
       " {'level_0': '10',\n",
       "  'index': '10',\n",
       "  'time': '1777',\n",
       "  'age': '40-44',\n",
       "  'gender': 'male'}]"
      ]
     },
     "execution_count": 145,
     "metadata": {},
     "output_type": "execute_result"
    }
   ],
   "source": [
    "list_hml_10_dict"
   ]
  }
 ],
 "metadata": {
  "kernelspec": {
   "display_name": "Python 3.9.7 ('base')",
   "language": "python",
   "name": "python3"
  },
  "language_info": {
   "codemirror_mode": {
    "name": "ipython",
    "version": 3
   },
   "file_extension": ".py",
   "mimetype": "text/x-python",
   "name": "python",
   "nbconvert_exporter": "python",
   "pygments_lexer": "ipython3",
   "version": "3.9.7"
  },
  "orig_nbformat": 4,
  "vscode": {
   "interpreter": {
    "hash": "651c3b7b3f466eb030aa737f279c846be4db9cba49a2f229278cab5e41121ed5"
   }
  }
 },
 "nbformat": 4,
 "nbformat_minor": 2
}
