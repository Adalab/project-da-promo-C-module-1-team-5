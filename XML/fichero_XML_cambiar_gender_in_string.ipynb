{
 "cells": [
  {
   "cell_type": "code",
   "execution_count": 2,
   "metadata": {},
   "outputs": [],
   "source": [
    "list_hml_10_dict= [{'level_0': '1', 'index': '1', 'time': '784', 'age': '50-54', 'gender': '0'},\n",
    " {'level_0': '2', 'index': '2', 'time': '924', 'age': '22-24', 'gender': '1'},\n",
    " {'level_0': '3', 'index': '3', 'time': '575', 'age': '45-49', 'gender': '2'},\n",
    " {'level_0': '4', 'index': '4', 'time': '781', 'age': '45-49', 'gender': '3'},\n",
    " {'level_0': '5', 'index': '5', 'time': '1020', 'age': '25-29', 'gender': '4'},\n",
    " {'level_0': '6', 'index': '6', 'time': '141', 'age': '18-21', 'gender': '10'},\n",
    " {'level_0': '7', 'index': '7', 'time': '484', 'age': '30-34', 'gender': '0'},\n",
    " {'level_0': '8', 'index': '8', 'time': '1744', 'age': '22-24', 'gender': '0'},\n",
    " {'level_0': '9', 'index': '9', 'time': '655', 'age': '30-34', 'gender': '0'},\n",
    " {'level_0': '10','index': '10', 'time': '1777','age': '40-44','gender': '0'}]"
   ]
  },
  {
   "cell_type": "code",
   "execution_count": 3,
   "metadata": {},
   "outputs": [
    {
     "data": {
      "text/plain": [
       "[{'level_0': '1', 'index': '1', 'time': '784', 'age': '50-54', 'gender': '0'},\n",
       " {'level_0': '2', 'index': '2', 'time': '924', 'age': '22-24', 'gender': '1'},\n",
       " {'level_0': '3', 'index': '3', 'time': '575', 'age': '45-49', 'gender': '2'},\n",
       " {'level_0': '4', 'index': '4', 'time': '781', 'age': '45-49', 'gender': '3'},\n",
       " {'level_0': '5', 'index': '5', 'time': '1020', 'age': '25-29', 'gender': '4'},\n",
       " {'level_0': '6', 'index': '6', 'time': '141', 'age': '18-21', 'gender': '10'},\n",
       " {'level_0': '7', 'index': '7', 'time': '484', 'age': '30-34', 'gender': '0'},\n",
       " {'level_0': '8', 'index': '8', 'time': '1744', 'age': '22-24', 'gender': '0'},\n",
       " {'level_0': '9', 'index': '9', 'time': '655', 'age': '30-34', 'gender': '0'},\n",
       " {'level_0': '10',\n",
       "  'index': '10',\n",
       "  'time': '1777',\n",
       "  'age': '40-44',\n",
       "  'gender': '0'}]"
      ]
     },
     "execution_count": 3,
     "metadata": {},
     "output_type": "execute_result"
    }
   ],
   "source": [
    "list_hml_10_dict"
   ]
  },
  {
   "cell_type": "code",
   "execution_count": 15,
   "metadata": {},
   "outputs": [],
   "source": [
    "def  limpieza_xml (self):\n",
    "    \n",
    "    for dictionary in self:\n",
    "        if dictionary.get('gender') == '0':\n",
    "            dictionary['gender'] = 'Man'\n",
    "        elif dictionary.get('gender') == '1':\n",
    "            dictionary['gender'] = 'Woman'\n",
    "        elif dictionary.get('gender') == '2':\n",
    "            dictionary['gender'] = 'Nonbinary'\n",
    "        elif dictionary.get('gender') == '3':\n",
    "            dictionary['gender'] = 'Prefer not to say'\n",
    "        elif dictionary.get('gender') == '4':\n",
    "            dictionary['gender'] = 'Prefer to self-describe'\n",
    "        else:    \n",
    "            print(f\"There is an error, the unlisted values is : {dictionary.get('gender')}\")\n",
    "      \n",
    "    lista_tupla1 = []\n",
    "    key = ()\n",
    "    datos_xml =[]\n",
    "    \n",
    "    #tupla para el Key funciona    \n",
    "    \n",
    "        \n",
    "    for z in self:\n",
    "        key=set(z.keys())\n",
    "        key1 = tuple(key)\n",
    "    \n",
    "    \n",
    "    \n",
    "    #tupla para el value\n",
    "      \n",
    "    for v in self:\n",
    "        value=tuple(v.values())   \n",
    "        datos_xml.append(value)      \n",
    "    \n",
    "    return f'{key1}{datos_xml}' \n",
    "        \n"
   ]
  },
  {
   "cell_type": "code",
   "execution_count": 16,
   "metadata": {},
   "outputs": [
    {
     "name": "stdout",
     "output_type": "stream",
     "text": [
      "There is an error, the unlisted values is : Man\n",
      "There is an error, the unlisted values is : Woman\n",
      "There is an error, the unlisted values is : Nonbinary\n",
      "There is an error, the unlisted values is : Prefer not to say\n",
      "There is an error, the unlisted values is : Prefer to self-describe\n",
      "There is an error, the unlisted values is : 10\n",
      "There is an error, the unlisted values is : Man\n",
      "There is an error, the unlisted values is : Man\n",
      "There is an error, the unlisted values is : Man\n",
      "There is an error, the unlisted values is : Man\n"
     ]
    },
    {
     "data": {
      "text/plain": [
       "\"('index', 'age', 'time', 'level_0', 'gender')[('1', '1', '784', '50-54', 'Man'), ('2', '2', '924', '22-24', 'Woman'), ('3', '3', '575', '45-49', 'Nonbinary'), ('4', '4', '781', '45-49', 'Prefer not to say'), ('5', '5', '1020', '25-29', 'Prefer to self-describe'), ('6', '6', '141', '18-21', '10'), ('7', '7', '484', '30-34', 'Man'), ('8', '8', '1744', '22-24', 'Man'), ('9', '9', '655', '30-34', 'Man'), ('10', '10', '1777', '40-44', 'Man')]\""
      ]
     },
     "execution_count": 16,
     "metadata": {},
     "output_type": "execute_result"
    }
   ],
   "source": [
    "limpieza_xml(list_hml_10_dict)"
   ]
  },
  {
   "cell_type": "code",
   "execution_count": null,
   "metadata": {},
   "outputs": [],
   "source": [
    "  lista_tupla1 = []\n",
    "    key = []\n",
    "    value =[]\n",
    "    \n",
    "    for z in self:\n",
    "        k = set(z)    \n",
    "        lista_tupla1 = set(key.append(k))"
   ]
  },
  {
   "cell_type": "code",
   "execution_count": null,
   "metadata": {},
   "outputs": [
    {
     "ename": "AttributeError",
     "evalue": "'list' object has no attribute 'keys'",
     "output_type": "error",
     "traceback": [
      "\u001b[0;31m---------------------------------------------------------------------------\u001b[0m",
      "\u001b[0;31mAttributeError\u001b[0m                            Traceback (most recent call last)",
      "\u001b[0;32m/var/folders/66/3gn2x5sj3tlfxjp4wp1zg9n00000gn/T/ipykernel_21555/3217694876.py\u001b[0m in \u001b[0;36m<module>\u001b[0;34m\u001b[0m\n\u001b[0;32m----> 1\u001b[0;31m \u001b[0mlist_hml_10_dict\u001b[0m\u001b[0;34m.\u001b[0m\u001b[0mkeys\u001b[0m\u001b[0;34m\u001b[0m\u001b[0;34m\u001b[0m\u001b[0m\n\u001b[0m",
      "\u001b[0;31mAttributeError\u001b[0m: 'list' object has no attribute 'keys'"
     ]
    }
   ],
   "source": [
    "list_hml_10_dict.keys"
   ]
  },
  {
   "cell_type": "code",
   "execution_count": null,
   "metadata": {},
   "outputs": [
    {
     "name": "stdout",
     "output_type": "stream",
     "text": [
      "There is an error, the unlisted values is : Man\n",
      "There is an error, the unlisted values is : Woman\n",
      "There is an error, the unlisted values is : Nonbinary\n",
      "There is an error, the unlisted values is : Prefer not to say\n",
      "There is an error, the unlisted values is : Prefer to self-describe\n",
      "There is an error, the unlisted values is : 10\n",
      "There is an error, the unlisted values is : Man\n",
      "There is an error, the unlisted values is : Man\n",
      "There is an error, the unlisted values is : Man\n",
      "There is an error, the unlisted values is : Man\n"
     ]
    },
    {
     "data": {
      "text/plain": [
       "('time', 'age', 'index', 'gender', 'level_0')"
      ]
     },
     "execution_count": 31,
     "metadata": {},
     "output_type": "execute_result"
    }
   ],
   "source": [
    "limpieza_xml(list_hml_10_dict)"
   ]
  }
 ],
 "metadata": {
  "kernelspec": {
   "display_name": "Python 3.9.7 ('base')",
   "language": "python",
   "name": "python3"
  },
  "language_info": {
   "codemirror_mode": {
    "name": "ipython",
    "version": 3
   },
   "file_extension": ".py",
   "mimetype": "text/x-python",
   "name": "python",
   "nbconvert_exporter": "python",
   "pygments_lexer": "ipython3",
   "version": "3.9.7"
  },
  "orig_nbformat": 4,
  "vscode": {
   "interpreter": {
    "hash": "651c3b7b3f466eb030aa737f279c846be4db9cba49a2f229278cab5e41121ed5"
   }
  }
 },
 "nbformat": 4,
 "nbformat_minor": 2
}
