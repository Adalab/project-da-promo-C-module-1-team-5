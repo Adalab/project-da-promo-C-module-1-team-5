{
 "cells": [
  {
   "cell_type": "markdown",
   "metadata": {},
   "source": [
    "# Creamos clase para identificar que extension de archivo que vamos a procesar #\n"
   ]
  },
  {
   "cell_type": "code",
   "execution_count": 1,
   "metadata": {},
   "outputs": [],
   "source": [
    "class Tipo_de_archivo :\n",
    "    def __init__(self, extension):\n",
    "\n",
    "        self.extension = extension\n",
    "\n",
    "    import os.path\n",
    "    os.path.splitext(#archivo)\n",
    "\n"
   ]
  },
  {
   "cell_type": "code",
   "execution_count": 2,
   "metadata": {},
   "outputs": [
    {
     "ename": "SyntaxError",
     "evalue": "unexpected EOF while parsing (1710985843.py, line 1)",
     "output_type": "error",
     "traceback": [
      "\u001b[0;36m  Cell \u001b[0;32mIn [2], line 1\u001b[0;36m\u001b[0m\n\u001b[0;31m    class Tratamiento_datos (Tipo_de_archivo):\u001b[0m\n\u001b[0m                                              ^\u001b[0m\n\u001b[0;31mSyntaxError\u001b[0m\u001b[0;31m:\u001b[0m unexpected EOF while parsing\n"
     ]
    }
   ],
   "source": [
    "class Tratamiento_datos (Tipo_de_archivo):\n",
    "\n",
    "    def __init__ (self, txt, xml, sql):\n",
    "        #verificar si hace falta poner Super ya que en este caso no heredamos nada de la principal\n",
    "        self.txt = txt\n",
    "        self.xml = xml\n",
    "        self.sql = sql\n",
    "    \n",
    "        def (txt,)"
   ]
  },
  {
   "cell_type": "markdown",
   "metadata": {},
   "source": [
    "# Creamos Base de datos #"
   ]
  },
  {
   "cell_type": "code",
   "execution_count": 1,
   "metadata": {},
   "outputs": [
    {
     "name": "stdout",
     "output_type": "stream",
     "text": [
      "MySQLCursor: CREATE DATABASE IF NOT EXISTS Project_1\n"
     ]
    }
   ],
   "source": [
    "import mysql.connector\n",
    "\n",
    "cnx = mysql.connector.connect(user='root', password='AlumnaAdalab',\n",
    "                              host='127.0.0.1')\n",
    "\n",
    "\n",
    "mycursor = cnx.cursor()\n",
    "try:\n",
    "    mycursor.execute(\"CREATE DATABASE IF NOT EXISTS Project_1\")\n",
    "    print(mycursor)\n",
    "except mysql.connector.Error as err:\n",
    "    print(err)\n",
    "    print(\"Error Code:\", err.errno)\n",
    "    print(\"SQLSTATE\", err.sqlstate)\n",
    "    print(\"Message\", err.msg)"
   ]
  },
  {
   "cell_type": "markdown",
   "metadata": {},
   "source": [
    "# Creamos tablas #"
   ]
  },
  {
   "cell_type": "code",
   "execution_count": null,
   "metadata": {},
   "outputs": [],
   "source": [
    "import mysql.connector\n",
    "\n",
    "# Creamos una funcion para crear la tabla correspondiente a cada extension de archivo, dentro de la Base de Datos Project_1\n",
    "\n",
    "def creacion_tablas (query_tablas):\n",
    "    \n",
    "cnx = mysql.connector.connect(user='root', password='AlumnaAdalab',\n",
    "                              host='127.0.0.1', database='Project_1')\n",
    "\n",
    "\n",
    "mycursor = cnx.cursor()\n",
    "try:\n",
    "    mycursor.execute(query_tablas)\n",
    "    cnx.commit()\n",
    "    print(mycursor)\n",
    "    \n",
    "except mysql.connector.Error as err:\n",
    "    print(err)\n",
    "    print(\"Error Code:\", err.errno)\n",
    "    print(\"SQLSTATE\", err.sqlstate)\n",
    "    print(\"Message\", err.msg)\n",
    "\n"
   ]
  },
  {
   "cell_type": "code",
   "execution_count": null,
   "metadata": {},
   "outputs": [],
   "source": [
    "#Definimos query de creacion de tablas sql.\n",
    "\n",
    "tabla_sql = '''(CREATE TABLE `data_sql` (\n",
    "  `index_sql` int NOT NULL,\n",
    "  `q10_part_1` varchar(55) DEFAULT NULL,\n",
    "  `q10_part_2` varchar(55) DEFAULT NULL,\n",
    "  `q10_part_3` varchar(55) DEFAULT NULL,\n",
    "  `q10_part_4` varchar(55) DEFAULT NULL,\n",
    "  `q10_part_5` varchar(55) DEFAULT NULL,\n",
    "  `q10_part_6` varchar(55) DEFAULT NULL,\n",
    "  `q10_part_7` varchar(55) DEFAULT NULL,\n",
    "  `q10_part_8` varchar(55) DEFAULT NULL,\n",
    "  `q10_part_9` varchar(55) DEFAULT NULL,\n",
    "  `q10_part_10` varchar(55) DEFAULT NULL,\n",
    "  `q10_part_11` varchar(55) DEFAULT NULL,\n",
    "  `q10_part_12` varchar(55) DEFAULT NULL,\n",
    "  `q10_part_13` varchar(55) DEFAULT NULL,\n",
    "  `q10_part_14` varchar(55) DEFAULT NULL,\n",
    "  `q10_part_15` varchar(55) DEFAULT NULL,\n",
    "  `q10_part_16` varchar(55) DEFAULT NULL,\n",
    "  `q10_other` varchar(55) DEFAULT NULL,\n",
    "  PRIMARY KEY (`index_sql`)\n",
    ") '''"
   ]
  },
  {
   "cell_type": "code",
   "execution_count": null,
   "metadata": {},
   "outputs": [],
   "source": [
    "#Definimos query de creacion de tablas xml.\n",
    "\n",
    "tabla_xml = ''' '''"
   ]
  },
  {
   "cell_type": "code",
   "execution_count": null,
   "metadata": {},
   "outputs": [],
   "source": [
    "#Definimos query de creacion de tablas txt.\n",
    "\n",
    "tabla_txt = '''  '''"
   ]
  },
  {
   "cell_type": "code",
   "execution_count": null,
   "metadata": {},
   "outputs": [],
   "source": [
    "# Corremos las funciones para que se creen cada una de las tablas.\n",
    "\n",
    "creacion_tablas(tabla_sql)\n",
    "creacion_tablas(tabla_xml)\n",
    "creacion_tablas (tabla_txt)\n",
    "\n"
   ]
  },
  {
   "cell_type": "markdown",
   "metadata": {},
   "source": [
    "Una vez creada la base de datos y la tabla tenemos que insertar los valores que tenemos para cada una de ellas, se nos presenta la situacion de que los datos que contiene cada archivo no estan  listos para ser cargados, es necesario que realicemos limpieza de los mismos con distintas funciones dependiendo del tipo de archivo que tratemos, para ellos vamos a definir una clase que identifique que extencion de archivo estamos leyendo y proceda a realizarle las modificaciones necesarias para cargar sus datos en la tabla correspondiente. "
   ]
  },
  {
   "cell_type": "code",
   "execution_count": null,
   "metadata": {},
   "outputs": [],
   "source": [
    "class Limpieza_datos:\n",
    "\n",
    "    def __init__(self,nombre_archivo):\n",
    "        self.nombre_archivo = nombre_archivo\n",
    "        #self.extension_archivo = extension_archivo\n",
    "\n",
    "    \n",
    "   \n",
    "\n",
    "    def  abrir_archivos (self):\n",
    "    \n",
    "        import os.path #importamos libreria para leer extension archivo.\n",
    "        nombre = os.path.splitext(self)[0]\n",
    "        extension = os.path.splitext(self)[1]\n",
    "\n",
    "        if extension == '.xml':\n",
    "            #funciones xml para lectura ficheros, verificar si ponemos variable que guarde los datos y la limpieza la hacemos de eso\n",
    "            #entonces tendremos que cerrar el archivo despues de abrirlo\n",
    "\n",
    "        elif extension == '.txt':\n",
    "            #funciones txt para lectura ficheros\n",
    "\n",
    "        elif extension == '.sql':\n",
    "            #funciones sql para lectura ficheros\n",
    "    \n",
    "    def limpieza_datos (self):\n",
    "\n",
    "        nombre = os.path.splitext(self)[0]\n",
    "        extension = os.path.splitext(self)[1]\n",
    "\n",
    "        if extension == '.xml':\n",
    "            def  limpieza_xml (archivo):\n",
    "                #def limpieza_datos (self):\n",
    "\n",
    "        #nombre = os.path.splitext(self)[0]\n",
    "        #extension = os.path.splitext(self)[1]\n",
    "\n",
    "        #if extension == '.xml':\n",
    "\n",
    "   \n",
    "                for dictionary in archivo:\n",
    "                    if dictionary.get('gender') == '0':\n",
    "                        dictionary['gender'] = 'Man'\n",
    "                    elif dictionary.get('gender') == '1':\n",
    "                        dictionary['gender'] = 'Woman'\n",
    "                    elif dictionary.get('gender') == '2':\n",
    "                        dictionary['gender'] = 'Nonbinary'\n",
    "                    elif dictionary.get('gender') == '3':\n",
    "                        dictionary['gender'] = 'Prefer not to say'\n",
    "                    elif dictionary.get('gender') == '4':\n",
    "                        dictionary['gender'] = 'Prefer to self-describe'\n",
    "                    else:    \n",
    "                        print(f\"There is an error, the unlisted values is : {dictionary.get('gender')}\")\n",
    "            \n",
    "                lista_tupla= []\n",
    "                for i in archivo:\n",
    "                    lista_tupla.append(tuple(i.values()))\n",
    "\n",
    "                return lista_tupla \n",
    "   \n",
    "            \n",
    "        elif extension == '.txt':\n",
    "            #funciones txt limpieza\n",
    "\n",
    "        elif extension == '.sql':\n",
    "            #funciones sql limpieza\n",
    "\n",
    "\n",
    "\n",
    "\n",
    "\n",
    "\n",
    "\n",
    "\n"
   ]
  },
  {
   "cell_type": "markdown",
   "metadata": {},
   "source": [
    "Una vez limpios los datos necistamos extraer los valores de cada archivo en una query para poder asi cargarlos en las tablas respectivas.\n"
   ]
  },
  {
   "cell_type": "code",
   "execution_count": null,
   "metadata": {},
   "outputs": [],
   "source": [
    "query_datos_xml = '''INSER INTO'''\n"
   ]
  },
  {
   "cell_type": "code",
   "execution_count": null,
   "metadata": {},
   "outputs": [],
   "source": [
    "query_datos_txt = '''INSERT INTO'''"
   ]
  },
  {
   "cell_type": "code",
   "execution_count": null,
   "metadata": {},
   "outputs": [],
   "source": [
    "query_datos_sql = '''INSERT INTO'''"
   ]
  },
  {
   "cell_type": "markdown",
   "metadata": {},
   "source": [
    " # Insertamos datos en las tablas #"
   ]
  },
  {
   "cell_type": "code",
   "execution_count": null,
   "metadata": {},
   "outputs": [],
   "source": [
    "import mysql.connector\n",
    "\n",
    "cnx = mysql.connector.connect(user='root', password='AlumnaAdalab',\n",
    "                              host='127.0.0.1', database='BD_pruebas')\n",
    "\n",
    "\n",
    "mycursor = cnx.cursor()\n",
    "sql = \"INSERT INTO customers (name, address) VALUES (%s, %s)\"\n",
    "val = [\n",
    "  ('Ana', 'Lowstreet 4'),\n",
    "  ('Rocio', 'Apple st 652'),\n",
    "  ('Juana', 'Mountain 21'),\n",
    "  ('Pedro', 'Valley 345')\n",
    "]\n",
    "\n",
    "try: \n",
    "    mycursor.executemany(sql, val)\n",
    "    cnx.commit()\n",
    "    print(mycursor.rowcount, \"registro/s insertado/s.\")\n",
    "\n",
    "except mysql.connector.Error as err:\n",
    "    print(err)\n",
    "    print(\"Error Code:\", err.errno)\n",
    "    print(\"SQLSTATE\", err.sqlstate)\n",
    "    print(\"Message\", err.msg)"
   ]
  }
 ],
 "metadata": {
  "kernelspec": {
   "display_name": "Python 3.8.9 64-bit",
   "language": "python",
   "name": "python3"
  },
  "language_info": {
   "codemirror_mode": {
    "name": "ipython",
    "version": 3
   },
   "file_extension": ".py",
   "mimetype": "text/x-python",
   "name": "python",
   "nbconvert_exporter": "python",
   "pygments_lexer": "ipython3",
   "version": "3.8.9"
  },
  "orig_nbformat": 4,
  "vscode": {
   "interpreter": {
    "hash": "31f2aee4e71d21fbe5cf8b01ff0e069b9275f58929596ceb00d14d90e3e16cd6"
   }
  }
 },
 "nbformat": 4,
 "nbformat_minor": 2
}
